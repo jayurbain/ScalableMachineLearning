{
 "cells": [
  {
   "cell_type": "markdown",
   "metadata": {},
   "source": [
    "#### Time Series Data\n",
    "\n",
    "Jay Urbain, PhD\n",
    "\n",
    "1/19/2017"
   ]
  },
  {
   "cell_type": "markdown",
   "metadata": {},
   "source": [
    "References:\n",
    "\n",
    "- Multivariate Time Series Analysis: With R and Financial Applications\n",
    " \n",
    "Time series data can be phrased as supervised learning.\n",
    "\n",
    "Given a sequence of numbers for a time series dataset, we can restructure the data to look like a supervised learning problem using previous time steps as input variables, and use the next time step as the output variable.\n",
    "\n",
    "The use of prior time steps to predict the next time step is called the sliding window method. For short, it may be called the window method in some literature. In statistics and time series analysis, this is called a lag or lag method.\n",
    "\n",
    "The number of previous time steps is called the window width or size of the lag.\n",
    "\n",
    "This sliding window is the basis for how we can turn any time series dataset into a supervised learning problem. From this simple example, we can notice a few things:\n",
    "\n",
    "The sliding window method can be used to turn a time series into either a regression or classification supervised learning problem for real-valued or labeled time series values."
   ]
  },
  {
   "cell_type": "code",
   "execution_count": null,
   "metadata": {
    "collapsed": true
   },
   "outputs": [],
   "source": []
  }
 ],
 "metadata": {
  "kernelspec": {
   "display_name": "Python 3",
   "language": "python",
   "name": "python3"
  },
  "language_info": {
   "codemirror_mode": {
    "name": "ipython",
    "version": 3
   },
   "file_extension": ".py",
   "mimetype": "text/x-python",
   "name": "python",
   "nbconvert_exporter": "python",
   "pygments_lexer": "ipython3",
   "version": "3.5.1"
  }
 },
 "nbformat": 4,
 "nbformat_minor": 0
}
